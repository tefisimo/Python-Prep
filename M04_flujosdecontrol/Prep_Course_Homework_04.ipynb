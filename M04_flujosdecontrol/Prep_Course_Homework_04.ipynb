{
 "cells": [
  {
   "attachments": {},
   "cell_type": "markdown",
   "metadata": {},
   "source": [
    "## Flujos de Control"
   ]
  },
  {
   "attachments": {},
   "cell_type": "markdown",
   "metadata": {},
   "source": [
    "1) Crear una variable que contenga un elemento del conjunto de números enteros y luego imprimir por pantalla si es mayor o menor a cero"
   ]
  },
  {
   "cell_type": "code",
   "execution_count": 1,
   "metadata": {},
   "outputs": [
    {
     "name": "stdout",
     "output_type": "stream",
     "text": [
      "La variable es mayor a cero\n"
     ]
    }
   ],
   "source": [
    "num = 7\n",
    "\n",
    "if (num < 0):\n",
    "    print('La variable es menor a cero')\n",
    "elif (num > 0):\n",
    "    print('La variable es mayor a cero')\n",
    "else:\n",
    "    print('La variable es igual a cero')"
   ]
  },
  {
   "attachments": {},
   "cell_type": "markdown",
   "metadata": {},
   "source": [
    "2) Crear dos variables y un condicional que informe si son del mismo tipo de dato"
   ]
  },
  {
   "cell_type": "code",
   "execution_count": 3,
   "metadata": {},
   "outputs": [
    {
     "name": "stdout",
     "output_type": "stream",
     "text": [
      "No son el mismo tipo de dato\n"
     ]
    }
   ],
   "source": [
    "var1 = 2\n",
    "var2 = '2'\n",
    "\n",
    "if (type(var1) == type(var2)):\n",
    "    print('Son el mismo tipo de dato')\n",
    "else:\n",
    "    print('No son el mismo tipo de dato')"
   ]
  },
  {
   "attachments": {},
   "cell_type": "markdown",
   "metadata": {},
   "source": [
    "3) Para los valores enteros del 1 al 20, imprimir por pantalla si es par o impar"
   ]
  },
  {
   "cell_type": "code",
   "execution_count": 4,
   "metadata": {},
   "outputs": [
    {
     "name": "stdout",
     "output_type": "stream",
     "text": [
      "El numero 1 es impar\n",
      "El numero 2 es par\n",
      "El numero 3 es impar\n",
      "El numero 4 es par\n",
      "El numero 5 es impar\n",
      "El numero 6 es par\n",
      "El numero 7 es impar\n",
      "El numero 8 es par\n",
      "El numero 9 es impar\n",
      "El numero 10 es par\n",
      "El numero 11 es impar\n",
      "El numero 12 es par\n",
      "El numero 13 es impar\n",
      "El numero 14 es par\n",
      "El numero 15 es impar\n",
      "El numero 16 es par\n",
      "El numero 17 es impar\n",
      "El numero 18 es par\n",
      "El numero 19 es impar\n",
      "El numero 20 es par\n"
     ]
    }
   ],
   "source": [
    "for valor in range(1, 21):\n",
    "    if (valor % 2 == 0):\n",
    "        print(f'El numero {valor} es par')\n",
    "    else: \n",
    "        print(f'El numero {valor} es impar')"
   ]
  },
  {
   "attachments": {},
   "cell_type": "markdown",
   "metadata": {},
   "source": [
    "4) En un ciclo for mostrar para los valores entre 0 y 5 el resultado de elevarlo a la potencia igual a 3"
   ]
  },
  {
   "cell_type": "code",
   "execution_count": 7,
   "metadata": {},
   "outputs": [
    {
     "name": "stdout",
     "output_type": "stream",
     "text": [
      "El numero 0 elevado a la 3 da como resultado 0\n",
      "El numero 1 elevado a la 3 da como resultado 1\n",
      "El numero 2 elevado a la 3 da como resultado 8\n",
      "El numero 3 elevado a la 3 da como resultado 27\n",
      "El numero 4 elevado a la 3 da como resultado 64\n",
      "El numero 5 elevado a la 3 da como resultado 125\n"
     ]
    }
   ],
   "source": [
    "for num in range (6):\n",
    "    print (f'El numero {num} elevado a la 3 da como resultado {num ** 3}' )"
   ]
  },
  {
   "attachments": {},
   "cell_type": "markdown",
   "metadata": {},
   "source": [
    "5) Crear una variable que contenga un número entero y realizar un ciclo for la misma cantidad de ciclos"
   ]
  },
  {
   "cell_type": "code",
   "execution_count": 10,
   "metadata": {},
   "outputs": [
    {
     "name": "stdout",
     "output_type": "stream",
     "text": [
      "Este es el ciclo numero: 1\n",
      "Este es el ciclo numero: 2\n",
      "Este es el ciclo numero: 3\n",
      "Este es el ciclo numero: 4\n"
     ]
    }
   ],
   "source": [
    "variable = 4\n",
    "\n",
    "for numero in range(variable):\n",
    "    print(f'Este es el ciclo numero: {numero + 1}')"
   ]
  },
  {
   "attachments": {},
   "cell_type": "markdown",
   "metadata": {},
   "source": [
    "6) Utilizar un ciclo while para realizar el factorial de un número guardado en una variable, sólo si la variable contiene un número entero mayor a 0"
   ]
  },
  {
   "cell_type": "code",
   "execution_count": 15,
   "metadata": {},
   "outputs": [
    {
     "name": "stdout",
     "output_type": "stream",
     "text": [
      "El factorial es 2\n"
     ]
    }
   ],
   "source": [
    "num = 2\n",
    "\n",
    "if (num > 0):\n",
    "    factorial = num\n",
    "    while (num > 2):\n",
    "        num -= 1\n",
    "        factorial = factorial * num\n",
    "    print('El factorial es', factorial)\n",
    "else:\n",
    "    print('La variable no es mayor a cero')"
   ]
  },
  {
   "attachments": {},
   "cell_type": "markdown",
   "metadata": {},
   "source": [
    "7) Crear un ciclo for dentro de un ciclo while"
   ]
  },
  {
   "cell_type": "code",
   "execution_count": 16,
   "metadata": {},
   "outputs": [
    {
     "name": "stdout",
     "output_type": "stream",
     "text": [
      "Esto es parte del ciclo for\n",
      "Esto es parte del ciclo for\n",
      "Esto es parte del ciclo for\n",
      "Esto es parte del ciclo for\n",
      "Esto es parte del ciclo for\n",
      "##### Esto es parte del ciclo while #####\n",
      "Esto es parte del ciclo for\n",
      "Esto es parte del ciclo for\n",
      "Esto es parte del ciclo for\n",
      "Esto es parte del ciclo for\n",
      "##### Esto es parte del ciclo while #####\n",
      "Esto es parte del ciclo for\n",
      "Esto es parte del ciclo for\n",
      "Esto es parte del ciclo for\n",
      "##### Esto es parte del ciclo while #####\n",
      "Esto es parte del ciclo for\n",
      "Esto es parte del ciclo for\n",
      "##### Esto es parte del ciclo while #####\n",
      "Esto es parte del ciclo for\n",
      "##### Esto es parte del ciclo while #####\n"
     ]
    }
   ],
   "source": [
    "x = 5\n",
    "\n",
    "while x > 0:\n",
    "    for x in range(x):\n",
    "        print('Esto es parte del ciclo for')\n",
    "    print('##### Esto es parte del ciclo while #####')"
   ]
  },
  {
   "attachments": {},
   "cell_type": "markdown",
   "metadata": {},
   "source": [
    "8) Crear un ciclo while dentro de un ciclo for"
   ]
  },
  {
   "cell_type": "code",
   "execution_count": 18,
   "metadata": {},
   "outputs": [
    {
     "name": "stdout",
     "output_type": "stream",
     "text": [
      "Este es el ciclo for numero 1\n",
      "Esto es parte del ciclo while, vuelta numero: 1\n",
      "Esto es parte del ciclo while, vuelta numero: 2\n",
      "Esto es parte del ciclo while, vuelta numero: 3\n",
      "Esto es parte del ciclo while, vuelta numero: 4\n",
      "Esto es parte del ciclo while, vuelta numero: 5\n"
     ]
    }
   ],
   "source": [
    "for num in range(1, 6):\n",
    "    print(f'Este es el ciclo for numero {num}')\n",
    "    while num < 6:\n",
    "        print(f'Esto es parte del ciclo while, vuelta numero: {num}')\n",
    "        num += 1\n",
    "    if num > 1:\n",
    "        break"
   ]
  },
  {
   "attachments": {},
   "cell_type": "markdown",
   "metadata": {},
   "source": [
    "9) Imprimir los números primos existentes entre 0 y 30"
   ]
  },
  {
   "cell_type": "code",
   "execution_count": null,
   "metadata": {},
   "outputs": [],
   "source": [
    "maximo = 30\n",
    "num = 0\n",
    "primo = True\n",
    "while (num < maximo):                   #Mientras que \"num\" sea menor a \"maximo\"\n",
    "    for divisor in range(2, num):           #Por cada divisor dentro de 2 y num \n",
    "        if (num % divisor == 0):                #Si el residio entre numero y el divisor de turno es igual a 0\n",
    "            primo = False                           #La var \"primo\" pasa a ser falso\n",
    "    if (primo):                             #Si primo no ha cambiado su valor de true\n",
    "        print(num)                              #Imprime el valor de \"primo\"\n",
    "    else:                                   #En cambio si \"primo\" cambio de valor a false\n",
    "        primo = True                            #Asignale el valor de true\n",
    "    num += 1                            #Y sumarle uno a \"num\""
   ]
  },
  {
   "attachments": {},
   "cell_type": "markdown",
   "metadata": {},
   "source": [
    "10) ¿Se puede mejorar el proceso del punto 9? Utilizar las sentencias break y/ó continue para tal fin"
   ]
  },
  {
   "cell_type": "code",
   "execution_count": null,
   "metadata": {},
   "outputs": [],
   "source": [
    "maximo = 30\n",
    "num = 0\n",
    "primo = True\n",
    "while (num < maximo):                   \n",
    "    for divisor in range(2, num):       \n",
    "        if (num % divisor == 0):        \n",
    "            break                       \n",
    "    if (primo):                         \n",
    "        print(num)                      \n",
    "    else:                               \n",
    "        primo = True                    \n",
    "    num += 1     "
   ]
  },
  {
   "attachments": {},
   "cell_type": "markdown",
   "metadata": {},
   "source": [
    "11) En los puntos 9 y 10, se diseño un código que encuentra números primos y además se lo optimizó. ¿Es posible saber en qué medida se optimizó?"
   ]
  },
  {
   "cell_type": "code",
   "execution_count": 19,
   "metadata": {},
   "outputs": [
    {
     "name": "stdout",
     "output_type": "stream",
     "text": [
      "0\n",
      "1\n",
      "2\n",
      "3\n",
      "5\n",
      "7\n",
      "11\n",
      "13\n",
      "17\n",
      "19\n",
      "23\n",
      "29\n",
      "Cantidad de ciclos: 378\n"
     ]
    }
   ],
   "source": [
    "ciclos_sin_break = 0\n",
    "maximo = 30\n",
    "num = 0\n",
    "primo = True\n",
    "while (num < maximo):                   \n",
    "    for divisor in range(2, num):\n",
    "        ciclos_sin_break += 1\n",
    "        if (num % divisor == 0):        \n",
    "            primo = False                        \n",
    "    if (primo):                         \n",
    "        print(num)                      \n",
    "    else:                               \n",
    "        primo = True                    \n",
    "    num += 1  \n",
    "print(f'Cantidad de ciclos: {ciclos_sin_break}')"
   ]
  },
  {
   "cell_type": "code",
   "execution_count": 20,
   "metadata": {},
   "outputs": [
    {
     "name": "stdout",
     "output_type": "stream",
     "text": [
      "0\n",
      "1\n",
      "2\n",
      "3\n",
      "4\n",
      "5\n",
      "6\n",
      "7\n",
      "8\n",
      "9\n",
      "10\n",
      "11\n",
      "12\n",
      "13\n",
      "14\n",
      "15\n",
      "16\n",
      "17\n",
      "18\n",
      "19\n",
      "20\n",
      "21\n",
      "22\n",
      "23\n",
      "24\n",
      "25\n",
      "26\n",
      "27\n",
      "28\n",
      "29\n",
      "Cantidad de ciclos: 134\n",
      "Se optimizó a un  0.3544973544973545% de ciclos aplicando break\n"
     ]
    }
   ],
   "source": [
    "ciclos_con_break = 0\n",
    "maximo = 30\n",
    "num = 0\n",
    "primo = True\n",
    "while (num < maximo):                   \n",
    "    for divisor in range(2, num):  \n",
    "        ciclos_con_break += 1\n",
    "        if (num % divisor == 0):        \n",
    "            break                       \n",
    "    if (primo):                         \n",
    "        print(num)                      \n",
    "    else:                               \n",
    "        primo = True                    \n",
    "    num += 1  \n",
    "print(f'Cantidad de ciclos: {ciclos_con_break}')\n",
    "print(f'Se optimizó a un  {ciclos_con_break/ciclos_sin_break}% de ciclos aplicando break')"
   ]
  },
  {
   "attachments": {},
   "cell_type": "markdown",
   "metadata": {},
   "source": [
    "12) Aplicando continue, armar un ciclo while que solo imprima los valores divisibles por 12, dentro del rango de números de 100 a 300"
   ]
  },
  {
   "cell_type": "code",
   "execution_count": 23,
   "metadata": {},
   "outputs": [
    {
     "name": "stdout",
     "output_type": "stream",
     "text": [
      "108 es divisible entre 12\n",
      "120 es divisible entre 12\n",
      "132 es divisible entre 12\n",
      "144 es divisible entre 12\n",
      "156 es divisible entre 12\n",
      "168 es divisible entre 12\n",
      "180 es divisible entre 12\n",
      "192 es divisible entre 12\n",
      "204 es divisible entre 12\n",
      "216 es divisible entre 12\n",
      "228 es divisible entre 12\n",
      "240 es divisible entre 12\n",
      "252 es divisible entre 12\n",
      "264 es divisible entre 12\n",
      "276 es divisible entre 12\n",
      "288 es divisible entre 12\n",
      "300 es divisible entre 12\n"
     ]
    }
   ],
   "source": [
    "numero = 100\n",
    "\n",
    "while numero <= 300:\n",
    "    if (numero % 12 == 0):\n",
    "        print(f'{numero} es divisible entre 12')\n",
    "    numero += 1"
   ]
  },
  {
   "attachments": {},
   "cell_type": "markdown",
   "metadata": {},
   "source": [
    "13) Utilizar la función **input()** que permite hacer ingresos por teclado, para encontrar números primos y dar la opción al usario de buscar el siguiente"
   ]
  },
  {
   "cell_type": "code",
   "execution_count": 32,
   "metadata": {},
   "outputs": [
    {
     "name": "stdout",
     "output_type": "stream",
     "text": [
      "27 es un numero primo\n"
     ]
    }
   ],
   "source": [
    "ingreso = int(input('Ingresa un numero del cual deseas saber si es primo: '))\n",
    "\n",
    "for divisor in range(2, ingreso):  \n",
    "    if (ingreso % divisor == 0):\n",
    "        print(f'{ingreso} No es un numero primo')\n",
    "        break\n",
    "    else:\n",
    "        print(f'{ingreso} es un numero primo')\n",
    "        break"
   ]
  },
  {
   "attachments": {},
   "cell_type": "markdown",
   "metadata": {},
   "source": [
    "14) Crear un ciclo while que encuentre dentro del rango de 100 a 300 el primer número divisible por 3 y además múltiplo de 6"
   ]
  },
  {
   "cell_type": "code",
   "execution_count": 33,
   "metadata": {},
   "outputs": [
    {
     "name": "stdout",
     "output_type": "stream",
     "text": [
      "El número es: 102\n"
     ]
    }
   ],
   "source": [
    "num = 100\n",
    "while(num <=300):\n",
    "    if (num % 6 == 0):\n",
    "        print(f'El número es: {num}')\n",
    "        break\n",
    "    num += 1"
   ]
  },
  {
   "cell_type": "code",
   "execution_count": null,
   "metadata": {},
   "outputs": [],
   "source": []
  }
 ],
 "metadata": {
  "interpreter": {
   "hash": "c85384e4cb51c8b72350f3a8712cc8351fdc3955e32a27f9b60c6242ab125f01"
  },
  "kernelspec": {
   "display_name": "Python 3 (ipykernel)",
   "language": "python",
   "name": "python3"
  },
  "language_info": {
   "codemirror_mode": {
    "name": "ipython",
    "version": 3
   },
   "file_extension": ".py",
   "mimetype": "text/x-python",
   "name": "python",
   "nbconvert_exporter": "python",
   "pygments_lexer": "ipython3",
   "version": "3.11.2"
  }
 },
 "nbformat": 4,
 "nbformat_minor": 4
}
